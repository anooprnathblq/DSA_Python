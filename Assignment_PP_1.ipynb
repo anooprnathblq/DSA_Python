{
  "nbformat": 4,
  "nbformat_minor": 0,
  "metadata": {
    "colab": {
      "provenance": [],
      "authorship_tag": "ABX9TyNEJomXbyttjobWFllb0SNp",
      "include_colab_link": true
    },
    "kernelspec": {
      "name": "python3",
      "display_name": "Python 3"
    },
    "language_info": {
      "name": "python"
    }
  },
  "cells": [
    {
      "cell_type": "markdown",
      "metadata": {
        "id": "view-in-github",
        "colab_type": "text"
      },
      "source": [
        "<a href=\"https://colab.research.google.com/github/anooprnathblq/DSA_Python/blob/main/Assignment_PP_1.ipynb\" target=\"_parent\"><img src=\"https://colab.research.google.com/assets/colab-badge.svg\" alt=\"Open In Colab\"/></a>"
      ]
    },
    {
      "cell_type": "code",
      "execution_count": null,
      "metadata": {
        "colab": {
          "base_uri": "https://localhost:8080/"
        },
        "id": "8VipplZqr4DW",
        "outputId": "35a7d7bb-d9d2-4a74-fb9e-3548a83ac0c0"
      },
      "outputs": [
        {
          "output_type": "stream",
          "name": "stdout",
          "text": [
            "Enter the radius  : 3\n",
            "Area of the circle is  28.285714285714285\n"
          ]
        }
      ],
      "source": [
        "#1.Program to print the area of a circle\n",
        "rad=int(input(\"Enter the radius  : \"))\n",
        "area=(22/7)*rad**2\n",
        "print(\"Area of the circle is \",area)"
      ]
    },
    {
      "cell_type": "code",
      "source": [
        "#2.Program to print details of a student\n",
        "stud_name=input(\"Enter the name : \")\n",
        "stud_roll=input(\"Enter the roll number : \")\n",
        "stud_marks=input(\"Enter the marks : \")\n",
        "print(\"Name    : \",stud_name)\n",
        "print(\"Roll No : \",stud_roll)\n",
        "print(\"Marks   : \",stud_marks)\n",
        "\n"
      ],
      "metadata": {
        "colab": {
          "base_uri": "https://localhost:8080/"
        },
        "id": "GUfLf4iPt4ZX",
        "outputId": "4e3dddcd-fe93-4066-85a6-c1382b4651fe"
      },
      "execution_count": null,
      "outputs": [
        {
          "output_type": "stream",
          "name": "stdout",
          "text": [
            "Enter the name : Rishith\n",
            "Enter the roll number : 3127\n",
            "Enter the marks : 84\n",
            "Name    :  Rishith\n",
            "Roll No :  3127\n",
            "Marks   :  84\n"
          ]
        }
      ]
    },
    {
      "cell_type": "code",
      "source": [
        "#3.Program to print the largest number\n",
        "myList3=[12,3,47,1]\n",
        "max=0\n",
        "for i in range(0,len(myList3)):\n",
        "  if myList3[i]>max:\n",
        "    max=myList3[i]\n",
        "print(max,\"is the largest number\")"
      ],
      "metadata": {
        "colab": {
          "base_uri": "https://localhost:8080/"
        },
        "id": "Q7cDZMecGwWx",
        "outputId": "8faf75e7-8177-4014-e22a-deb3cc6c52c0"
      },
      "execution_count": 6,
      "outputs": [
        {
          "output_type": "stream",
          "name": "stdout",
          "text": [
            "47 is the largest number\n"
          ]
        }
      ]
    },
    {
      "cell_type": "code",
      "source": [
        "#3.Program to print the largest number #Alternative\n",
        "myList3=[12,3,47,1]\n",
        "myList3.sort(reverse=True)\n",
        "print(myList3[0],\"is the largest number\")\n"
      ],
      "metadata": {
        "colab": {
          "base_uri": "https://localhost:8080/"
        },
        "id": "6jaAtie_veN0",
        "outputId": "c3de0115-92ce-4298-ebe7-f711827965f4"
      },
      "execution_count": null,
      "outputs": [
        {
          "output_type": "stream",
          "name": "stdout",
          "text": [
            "47 is the largest number\n"
          ]
        }
      ]
    },
    {
      "cell_type": "code",
      "source": [
        "#3.Program to print the largest number #Alternative\n",
        "myList3=[12,3,47]\n",
        "max_num=max(myList3)\n",
        "print(max_num,\"is the largest number\")"
      ],
      "metadata": {
        "colab": {
          "base_uri": "https://localhost:8080/"
        },
        "id": "w-ILe0l1JQ8v",
        "outputId": "f39859bb-502c-4141-bc9e-0e2f4ccde95e"
      },
      "execution_count": null,
      "outputs": [
        {
          "output_type": "stream",
          "name": "stdout",
          "text": [
            "47 is the largest number\n"
          ]
        }
      ]
    },
    {
      "cell_type": "code",
      "source": [
        "#4.Program to iterate and print the sum of range of numbers\n",
        "myList4=[1,2,3,4,5,6,7,8,9,10]\n",
        "curr_num=0\n",
        "pre_num=0\n",
        "sum=0\n",
        "for i in myList4:\n",
        "  curr_num=i\n",
        "  sum=curr_num+pre_num\n",
        "  print(\"Current number \",curr_num,end=\"  \")\n",
        "  print(\"Previous number \",pre_num,end='  ')\n",
        "  print(\"Sum  :\",sum)\n",
        "  pre_num=curr_num\n",
        "\n",
        "\n",
        "\n",
        "\n"
      ],
      "metadata": {
        "colab": {
          "base_uri": "https://localhost:8080/"
        },
        "id": "ZyiVrIsgwtIG",
        "outputId": "739e10f4-6d4d-46de-c799-6b1a2ddc7a64"
      },
      "execution_count": 8,
      "outputs": [
        {
          "output_type": "stream",
          "name": "stdout",
          "text": [
            "Current number  1  Previous number  0  Sum  : 1\n",
            "Current number  2  Previous number  1  Sum  : 3\n",
            "Current number  3  Previous number  2  Sum  : 5\n",
            "Current number  4  Previous number  3  Sum  : 7\n",
            "Current number  5  Previous number  4  Sum  : 9\n",
            "Current number  6  Previous number  5  Sum  : 11\n",
            "Current number  7  Previous number  6  Sum  : 13\n",
            "Current number  8  Previous number  7  Sum  : 15\n",
            "Current number  9  Previous number  8  Sum  : 17\n",
            "Current number  10  Previous number  9  Sum  : 19\n"
          ]
        }
      ]
    },
    {
      "cell_type": "code",
      "source": [
        "#5.Program to print numbers divisibel by 5\n",
        "myList5=[10,20,33,46,55]\n",
        "\n",
        "for i in myList5:\n",
        "  if (i%5==0):\n",
        "     print(i,end=\" \")\n",
        "\n",
        "\n"
      ],
      "metadata": {
        "colab": {
          "base_uri": "https://localhost:8080/"
        },
        "id": "uwowoIinz3RD",
        "outputId": "8bd524e7-9c4b-430e-c399-60ed4b0ce2e2"
      },
      "execution_count": null,
      "outputs": [
        {
          "output_type": "stream",
          "name": "stdout",
          "text": [
            "10 20 55 "
          ]
        }
      ]
    },
    {
      "cell_type": "code",
      "source": [
        "#6.Program to check whether a number is prime\n",
        "num=int(input(\"Enter the number :\"))\n",
        "if num>1:\n",
        "  for i in range(2,num):\n",
        "    if num%i==0:\n",
        "      print(num,\"not a prime number\")\n",
        "      break\n",
        "  else:\n",
        "    print(num,\"is a prime number\")\n",
        "else:\n",
        "  print(\"num\",\"is not a prime number\")"
      ],
      "metadata": {
        "colab": {
          "base_uri": "https://localhost:8080/"
        },
        "id": "RC8j1Hsz6Mi8",
        "outputId": "31e71aca-374f-47ae-f2f4-bb56fc834290"
      },
      "execution_count": null,
      "outputs": [
        {
          "output_type": "stream",
          "name": "stdout",
          "text": [
            "Enter the number :3\n",
            "3 is a prime number\n"
          ]
        }
      ]
    },
    {
      "cell_type": "code",
      "source": [
        "#7.Program to reverse a list\n",
        "myList7=[10,40,30,70]\n",
        "myList8=[]\n",
        "\n",
        "for i in range(len(myList7),0,-1):\n",
        "  myList8.append(myList7[i-1])\n",
        "\n",
        "print(myList8)\n"
      ],
      "metadata": {
        "colab": {
          "base_uri": "https://localhost:8080/"
        },
        "id": "PtgjgFAiCv4A",
        "outputId": "59bfe1e8-98ef-4c9b-e1e0-8d54d043e111"
      },
      "execution_count": null,
      "outputs": [
        {
          "output_type": "stream",
          "name": "stdout",
          "text": [
            "[70, 30, 40, 10]\n"
          ]
        }
      ]
    },
    {
      "cell_type": "code",
      "source": [
        "#8.Program to print a pattern\n",
        "for i in range(0,4):\n",
        "  for j in range(i+1):\n",
        "    print(\"*\",end =\"\")\n",
        "  print(\"\\n\")"
      ],
      "metadata": {
        "colab": {
          "base_uri": "https://localhost:8080/"
        },
        "id": "mCdA5OOvD5hk",
        "outputId": "01b330cf-1b43-4b47-8a3a-1f8dfc20768c"
      },
      "execution_count": null,
      "outputs": [
        {
          "output_type": "stream",
          "name": "stdout",
          "text": [
            "*\n",
            "\n",
            "**\n",
            "\n",
            "***\n",
            "\n",
            "****\n",
            "\n"
          ]
        }
      ]
    },
    {
      "cell_type": "code",
      "source": [
        "#9.Program to find the maximum of three numbers\n",
        "a=34\n",
        "b=12\n",
        "c=7\n",
        "if a>b and a> c:\n",
        "  print(a)\n",
        "elif b>a and b>c:\n",
        "  print(b)\n",
        "else:\n",
        "  print(c)"
      ],
      "metadata": {
        "colab": {
          "base_uri": "https://localhost:8080/"
        },
        "id": "mUhlOamcGWPb",
        "outputId": "b42c36bf-0657-4e46-8faf-55e1182b67f2"
      },
      "execution_count": null,
      "outputs": [
        {
          "output_type": "stream",
          "name": "stdout",
          "text": [
            "34\n"
          ]
        }
      ]
    },
    {
      "cell_type": "code",
      "source": [
        "#10.Program to print a pattern\n",
        "k=1\n",
        "for i in range(0,9):\n",
        "\n",
        "  if i<5 :\n",
        "    for j in range(i+1):\n",
        "      print(\"*\",end =\"\")\n",
        "    print(\"\\n\")\n",
        "  else:\n",
        "\n",
        "    for  j in range(0,i-k):\n",
        "      print(\"*\",end =\"\")\n",
        "    print('\\n')\n",
        "    k=k+2\n"
      ],
      "metadata": {
        "colab": {
          "base_uri": "https://localhost:8080/"
        },
        "id": "xDHa69CRRHbG",
        "outputId": "728461a0-0857-41ee-ba5b-f3a01b2956f6"
      },
      "execution_count": null,
      "outputs": [
        {
          "output_type": "stream",
          "name": "stdout",
          "text": [
            "*\n",
            "\n",
            "**\n",
            "\n",
            "***\n",
            "\n",
            "****\n",
            "\n",
            "*****\n",
            "\n",
            "****\n",
            "\n",
            "***\n",
            "\n",
            "**\n",
            "\n",
            "*\n",
            "\n"
          ]
        }
      ]
    }
  ]
}