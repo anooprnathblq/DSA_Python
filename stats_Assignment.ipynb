{
 "cells": [
  {
   "cell_type": "markdown",
   "id": "de3bafbb-58fc-4e6f-bcc3-44da01ad1f10",
   "metadata": {},
   "source": [
    "Assignment on Statistics\n",
    " An Institution wishes to find out their student’s ability in\r\n",
    "mathematics, reading and writing skills."
   ]
  },
  {
   "cell_type": "code",
   "execution_count": 1,
   "id": "72a67ccb-77ea-4ca6-9511-cb88b63a2add",
   "metadata": {},
   "outputs": [],
   "source": [
    "import pandas as pd\n",
    "import numpy as np"
   ]
  },
  {
   "cell_type": "code",
   "execution_count": 5,
   "id": "b7be56bd-df71-41cc-b19c-ded5fd23e807",
   "metadata": {},
   "outputs": [],
   "source": [
    "df=pd.read_csv('C:/Users/ADMIN/Desktop/DSA/Assesments/Students_Performance.csv')"
   ]
  },
  {
   "cell_type": "code",
   "execution_count": 6,
   "id": "2b3fa94b-a528-4abc-8314-94fe272b4f5a",
   "metadata": {},
   "outputs": [
    {
     "data": {
      "text/html": [
       "<div>\n",
       "<style scoped>\n",
       "    .dataframe tbody tr th:only-of-type {\n",
       "        vertical-align: middle;\n",
       "    }\n",
       "\n",
       "    .dataframe tbody tr th {\n",
       "        vertical-align: top;\n",
       "    }\n",
       "\n",
       "    .dataframe thead th {\n",
       "        text-align: right;\n",
       "    }\n",
       "</style>\n",
       "<table border=\"1\" class=\"dataframe\">\n",
       "  <thead>\n",
       "    <tr style=\"text-align: right;\">\n",
       "      <th></th>\n",
       "      <th>gender</th>\n",
       "      <th>race/ethnicity</th>\n",
       "      <th>parental level of education</th>\n",
       "      <th>lunch</th>\n",
       "      <th>test preparation course</th>\n",
       "      <th>math score</th>\n",
       "      <th>reading score</th>\n",
       "      <th>writing score</th>\n",
       "    </tr>\n",
       "  </thead>\n",
       "  <tbody>\n",
       "    <tr>\n",
       "      <th>0</th>\n",
       "      <td>female</td>\n",
       "      <td>group C</td>\n",
       "      <td>some high school</td>\n",
       "      <td>free/reduced</td>\n",
       "      <td>none</td>\n",
       "      <td>0</td>\n",
       "      <td>17</td>\n",
       "      <td>10</td>\n",
       "    </tr>\n",
       "    <tr>\n",
       "      <th>1</th>\n",
       "      <td>female</td>\n",
       "      <td>group B</td>\n",
       "      <td>high school</td>\n",
       "      <td>free/reduced</td>\n",
       "      <td>none</td>\n",
       "      <td>8</td>\n",
       "      <td>24</td>\n",
       "      <td>23</td>\n",
       "    </tr>\n",
       "    <tr>\n",
       "      <th>2</th>\n",
       "      <td>female</td>\n",
       "      <td>group B</td>\n",
       "      <td>some high school</td>\n",
       "      <td>free/reduced</td>\n",
       "      <td>none</td>\n",
       "      <td>18</td>\n",
       "      <td>32</td>\n",
       "      <td>28</td>\n",
       "    </tr>\n",
       "    <tr>\n",
       "      <th>3</th>\n",
       "      <td>female</td>\n",
       "      <td>group B</td>\n",
       "      <td>some college</td>\n",
       "      <td>standard</td>\n",
       "      <td>none</td>\n",
       "      <td>11</td>\n",
       "      <td>38</td>\n",
       "      <td>32</td>\n",
       "    </tr>\n",
       "    <tr>\n",
       "      <th>4</th>\n",
       "      <td>female</td>\n",
       "      <td>group C</td>\n",
       "      <td>some college</td>\n",
       "      <td>free/reduced</td>\n",
       "      <td>none</td>\n",
       "      <td>22</td>\n",
       "      <td>39</td>\n",
       "      <td>33</td>\n",
       "    </tr>\n",
       "  </tbody>\n",
       "</table>\n",
       "</div>"
      ],
      "text/plain": [
       "   gender race/ethnicity parental level of education         lunch  \\\n",
       "0  female        group C            some high school  free/reduced   \n",
       "1  female        group B                 high school  free/reduced   \n",
       "2  female        group B            some high school  free/reduced   \n",
       "3  female        group B                some college      standard   \n",
       "4  female        group C                some college  free/reduced   \n",
       "\n",
       "  test preparation course  math score  reading score  writing score  \n",
       "0                    none           0             17             10  \n",
       "1                    none           8             24             23  \n",
       "2                    none          18             32             28  \n",
       "3                    none          11             38             32  \n",
       "4                    none          22             39             33  "
      ]
     },
     "execution_count": 6,
     "metadata": {},
     "output_type": "execute_result"
    }
   ],
   "source": [
    "df.head()"
   ]
  },
  {
   "cell_type": "markdown",
   "id": "251d5114-56b1-4c1d-b911-e7d8633bf5d2",
   "metadata": {},
   "source": [
    "a.Find out how many males and females participated in the test."
   ]
  },
  {
   "cell_type": "code",
   "execution_count": 9,
   "id": "b6453d6c-88a6-406f-8f94-ab465b4fbf53",
   "metadata": {},
   "outputs": [
    {
     "data": {
      "text/plain": [
       "gender\n",
       "female    518\n",
       "male      482\n",
       "dtype: int64"
      ]
     },
     "execution_count": 9,
     "metadata": {},
     "output_type": "execute_result"
    }
   ],
   "source": [
    "df.groupby(\"gender\").size()"
   ]
  },
  {
   "cell_type": "markdown",
   "id": "d58adefb-a7ac-42e9-a948-aa797d3c15b0",
   "metadata": {},
   "source": [
    "b.What do you think about the students' parental level of \n",
    "education?"
   ]
  },
  {
   "cell_type": "code",
   "execution_count": 34,
   "id": "b09c90ca-d918-4120-bc84-c24d46f070d1",
   "metadata": {},
   "outputs": [
    {
     "data": {
      "text/plain": [
       "parental level of education\n",
       "associate's degree    22.2\n",
       "bachelor's degree     11.8\n",
       "high school           19.6\n",
       "master's degree        5.9\n",
       "some college          22.6\n",
       "some high school      17.9\n",
       "dtype: float64"
      ]
     },
     "execution_count": 34,
     "metadata": {},
     "output_type": "execute_result"
    }
   ],
   "source": [
    "sum=df.groupby(\"parental level of education\").size().sum()\n",
    "df.groupby(\"parental level of education\").size().apply(lambda x:\n",
    "                                                100 * x / float(sum))"
   ]
  },
  {
   "cell_type": "markdown",
   "id": "9908c9f0-6134-42dd-8663-f858a734ede5",
   "metadata": {},
   "source": [
    "Showing the percentage of parents belonging to differnetlevels of education"
   ]
  },
  {
   "cell_type": "markdown",
   "id": "9045f8f3-2758-4e25-bf2e-9c8936ff0470",
   "metadata": {},
   "source": [
    "c. Who scores the most on average for math, reading and \n",
    "writing based on\r\n",
    "i. Genderse"
   ]
  },
  {
   "cell_type": "code",
   "execution_count": 36,
   "id": "a765d5b8-562f-4d0a-8453-ffb58353795c",
   "metadata": {},
   "outputs": [
    {
     "data": {
      "text/html": [
       "<div>\n",
       "<style scoped>\n",
       "    .dataframe tbody tr th:only-of-type {\n",
       "        vertical-align: middle;\n",
       "    }\n",
       "\n",
       "    .dataframe tbody tr th {\n",
       "        vertical-align: top;\n",
       "    }\n",
       "\n",
       "    .dataframe thead th {\n",
       "        text-align: right;\n",
       "    }\n",
       "</style>\n",
       "<table border=\"1\" class=\"dataframe\">\n",
       "  <thead>\n",
       "    <tr style=\"text-align: right;\">\n",
       "      <th></th>\n",
       "      <th>math score</th>\n",
       "      <th>reading score</th>\n",
       "      <th>writing score</th>\n",
       "    </tr>\n",
       "    <tr>\n",
       "      <th>gender</th>\n",
       "      <th></th>\n",
       "      <th></th>\n",
       "      <th></th>\n",
       "    </tr>\n",
       "  </thead>\n",
       "  <tbody>\n",
       "    <tr>\n",
       "      <th>female</th>\n",
       "      <td>63.376448</td>\n",
       "      <td>72.590734</td>\n",
       "      <td>72.467181</td>\n",
       "    </tr>\n",
       "    <tr>\n",
       "      <th>male</th>\n",
       "      <td>68.821577</td>\n",
       "      <td>65.545643</td>\n",
       "      <td>63.446058</td>\n",
       "    </tr>\n",
       "  </tbody>\n",
       "</table>\n",
       "</div>"
      ],
      "text/plain": [
       "        math score  reading score  writing score\n",
       "gender                                          \n",
       "female   63.376448      72.590734      72.467181\n",
       "male     68.821577      65.545643      63.446058"
      ]
     },
     "execution_count": 36,
     "metadata": {},
     "output_type": "execute_result"
    }
   ],
   "source": [
    "df.groupby(\"gender\").agg({'math score':'mean','reading score':'mean','writing score':'mean'})"
   ]
  },
  {
   "cell_type": "markdown",
   "id": "abfb1c8d-072b-4496-b6ef-984974734614",
   "metadata": {},
   "source": [
    "Observations:For math Males scored higher tha Females based on average marks where as for reading and writing Females scored over Males based on average maarks."
   ]
  },
  {
   "cell_type": "markdown",
   "id": "3acebe0e-0d33-4c2d-99d5-7db090c403ad",
   "metadata": {},
   "source": [
    "c. Who scores the most on average for math, reading and writing based on\n",
    "ii. Test preparation courserse\r"
   ]
  },
  {
   "cell_type": "code",
   "execution_count": 37,
   "id": "44241d0e-1c2c-4b68-9dba-ac7cd960570a",
   "metadata": {},
   "outputs": [
    {
     "data": {
      "text/html": [
       "<div>\n",
       "<style scoped>\n",
       "    .dataframe tbody tr th:only-of-type {\n",
       "        vertical-align: middle;\n",
       "    }\n",
       "\n",
       "    .dataframe tbody tr th {\n",
       "        vertical-align: top;\n",
       "    }\n",
       "\n",
       "    .dataframe thead th {\n",
       "        text-align: right;\n",
       "    }\n",
       "</style>\n",
       "<table border=\"1\" class=\"dataframe\">\n",
       "  <thead>\n",
       "    <tr style=\"text-align: right;\">\n",
       "      <th></th>\n",
       "      <th>math score</th>\n",
       "      <th>reading score</th>\n",
       "      <th>writing score</th>\n",
       "    </tr>\n",
       "    <tr>\n",
       "      <th>test preparation course</th>\n",
       "      <th></th>\n",
       "      <th></th>\n",
       "      <th></th>\n",
       "    </tr>\n",
       "  </thead>\n",
       "  <tbody>\n",
       "    <tr>\n",
       "      <th>completed</th>\n",
       "      <td>69.96648</td>\n",
       "      <td>74.175978</td>\n",
       "      <td>74.684358</td>\n",
       "    </tr>\n",
       "    <tr>\n",
       "      <th>none</th>\n",
       "      <td>63.78972</td>\n",
       "      <td>66.417445</td>\n",
       "      <td>64.457944</td>\n",
       "    </tr>\n",
       "  </tbody>\n",
       "</table>\n",
       "</div>"
      ],
      "text/plain": [
       "                         math score  reading score  writing score\n",
       "test preparation course                                          \n",
       "completed                  69.96648      74.175978      74.684358\n",
       "none                       63.78972      66.417445      64.457944"
      ]
     },
     "execution_count": 37,
     "metadata": {},
     "output_type": "execute_result"
    }
   ],
   "source": [
    "df.groupby(\"test preparation course\").agg({'math score':'mean','reading score':'mean','writing score':'mean'})"
   ]
  },
  {
   "cell_type": "markdown",
   "id": "42a4e75e-e3a7-4a69-ade9-7b7acc057f7f",
   "metadata": {},
   "source": [
    "Observations:For Math,Reading and Writing,those who have completed the test preparation course has scored more based on average marks"
   ]
  },
  {
   "cell_type": "markdown",
   "id": "ca8125c8-40f3-4a10-b352-9d6a255be50e",
   "metadata": {},
   "source": [
    "d. What do you think about the scoring variation for math, reading and writing based on\n",
    "i. Gender\n"
   ]
  },
  {
   "cell_type": "code",
   "execution_count": 66,
   "id": "39f59f15-c1d4-41fa-9aca-66e5f287214f",
   "metadata": {},
   "outputs": [
    {
     "data": {
      "text/html": [
       "<div>\n",
       "<style scoped>\n",
       "    .dataframe tbody tr th:only-of-type {\n",
       "        vertical-align: middle;\n",
       "    }\n",
       "\n",
       "    .dataframe tbody tr th {\n",
       "        vertical-align: top;\n",
       "    }\n",
       "\n",
       "    .dataframe thead tr th {\n",
       "        text-align: left;\n",
       "    }\n",
       "\n",
       "    .dataframe thead tr:last-of-type th {\n",
       "        text-align: right;\n",
       "    }\n",
       "</style>\n",
       "<table border=\"1\" class=\"dataframe\">\n",
       "  <thead>\n",
       "    <tr>\n",
       "      <th></th>\n",
       "      <th colspan=\"3\" halign=\"left\">math score</th>\n",
       "      <th colspan=\"3\" halign=\"left\">reading score</th>\n",
       "      <th colspan=\"3\" halign=\"left\">writing score</th>\n",
       "    </tr>\n",
       "    <tr>\n",
       "      <th></th>\n",
       "      <th>std</th>\n",
       "      <th>min</th>\n",
       "      <th>max</th>\n",
       "      <th>std</th>\n",
       "      <th>min</th>\n",
       "      <th>max</th>\n",
       "      <th>std</th>\n",
       "      <th>min</th>\n",
       "      <th>max</th>\n",
       "    </tr>\n",
       "    <tr>\n",
       "      <th>gender</th>\n",
       "      <th></th>\n",
       "      <th></th>\n",
       "      <th></th>\n",
       "      <th></th>\n",
       "      <th></th>\n",
       "      <th></th>\n",
       "      <th></th>\n",
       "      <th></th>\n",
       "      <th></th>\n",
       "    </tr>\n",
       "  </thead>\n",
       "  <tbody>\n",
       "    <tr>\n",
       "      <th>female</th>\n",
       "      <td>16.029928</td>\n",
       "      <td>0</td>\n",
       "      <td>100</td>\n",
       "      <td>14.411018</td>\n",
       "      <td>17</td>\n",
       "      <td>100</td>\n",
       "      <td>14.844842</td>\n",
       "      <td>10</td>\n",
       "      <td>100</td>\n",
       "    </tr>\n",
       "    <tr>\n",
       "      <th>male</th>\n",
       "      <td>14.556411</td>\n",
       "      <td>27</td>\n",
       "      <td>100</td>\n",
       "      <td>14.149594</td>\n",
       "      <td>23</td>\n",
       "      <td>100</td>\n",
       "      <td>14.227225</td>\n",
       "      <td>15</td>\n",
       "      <td>100</td>\n",
       "    </tr>\n",
       "  </tbody>\n",
       "</table>\n",
       "</div>"
      ],
      "text/plain": [
       "       math score          reading score          writing score         \n",
       "              std min  max           std min  max           std min  max\n",
       "gender                                                                  \n",
       "female  16.029928   0  100     14.411018  17  100     14.844842  10  100\n",
       "male    14.556411  27  100     14.149594  23  100     14.227225  15  100"
      ]
     },
     "execution_count": 66,
     "metadata": {},
     "output_type": "execute_result"
    }
   ],
   "source": [
    "df.groupby(\"gender\").agg({'math score':['std','min','max'],'reading score':['std','min','max'],'writing score':['std','min','max']})"
   ]
  },
  {
   "cell_type": "markdown",
   "id": "b5186882-0c92-440a-bdd3-f7a9061f95d6",
   "metadata": {},
   "source": [
    "Showing the standard deviation, min and max based on Gender"
   ]
  },
  {
   "cell_type": "markdown",
   "id": "402df5d7-5798-4826-80d0-b56126c579b2",
   "metadata": {},
   "source": [
    "d. What do you think about the scoring variation for math, reading and writing based on\n",
    "\n",
    "ii. Test preparation course"
   ]
  },
  {
   "cell_type": "code",
   "execution_count": 67,
   "id": "f5dea59c-42bf-44cd-a8f7-b3d6caad1b99",
   "metadata": {},
   "outputs": [
    {
     "data": {
      "text/html": [
       "<div>\n",
       "<style scoped>\n",
       "    .dataframe tbody tr th:only-of-type {\n",
       "        vertical-align: middle;\n",
       "    }\n",
       "\n",
       "    .dataframe tbody tr th {\n",
       "        vertical-align: top;\n",
       "    }\n",
       "\n",
       "    .dataframe thead tr th {\n",
       "        text-align: left;\n",
       "    }\n",
       "\n",
       "    .dataframe thead tr:last-of-type th {\n",
       "        text-align: right;\n",
       "    }\n",
       "</style>\n",
       "<table border=\"1\" class=\"dataframe\">\n",
       "  <thead>\n",
       "    <tr>\n",
       "      <th></th>\n",
       "      <th colspan=\"3\" halign=\"left\">math score</th>\n",
       "      <th colspan=\"3\" halign=\"left\">reading score</th>\n",
       "      <th colspan=\"3\" halign=\"left\">writing score</th>\n",
       "    </tr>\n",
       "    <tr>\n",
       "      <th></th>\n",
       "      <th>std</th>\n",
       "      <th>min</th>\n",
       "      <th>max</th>\n",
       "      <th>std</th>\n",
       "      <th>min</th>\n",
       "      <th>max</th>\n",
       "      <th>std</th>\n",
       "      <th>min</th>\n",
       "      <th>max</th>\n",
       "    </tr>\n",
       "    <tr>\n",
       "      <th>test preparation course</th>\n",
       "      <th></th>\n",
       "      <th></th>\n",
       "      <th></th>\n",
       "      <th></th>\n",
       "      <th></th>\n",
       "      <th></th>\n",
       "      <th></th>\n",
       "      <th></th>\n",
       "      <th></th>\n",
       "    </tr>\n",
       "  </thead>\n",
       "  <tbody>\n",
       "    <tr>\n",
       "      <th>completed</th>\n",
       "      <td>14.521847</td>\n",
       "      <td>23</td>\n",
       "      <td>100</td>\n",
       "      <td>13.537572</td>\n",
       "      <td>37</td>\n",
       "      <td>100</td>\n",
       "      <td>13.236412</td>\n",
       "      <td>36</td>\n",
       "      <td>100</td>\n",
       "    </tr>\n",
       "    <tr>\n",
       "      <th>none</th>\n",
       "      <td>15.705689</td>\n",
       "      <td>0</td>\n",
       "      <td>100</td>\n",
       "      <td>14.608896</td>\n",
       "      <td>17</td>\n",
       "      <td>100</td>\n",
       "      <td>15.041667</td>\n",
       "      <td>10</td>\n",
       "      <td>100</td>\n",
       "    </tr>\n",
       "  </tbody>\n",
       "</table>\n",
       "</div>"
      ],
      "text/plain": [
       "                        math score          reading score           \\\n",
       "                               std min  max           std min  max   \n",
       "test preparation course                                              \n",
       "completed                14.521847  23  100     13.537572  37  100   \n",
       "none                     15.705689   0  100     14.608896  17  100   \n",
       "\n",
       "                        writing score           \n",
       "                                  std min  max  \n",
       "test preparation course                         \n",
       "completed                   13.236412  36  100  \n",
       "none                        15.041667  10  100  "
      ]
     },
     "execution_count": 67,
     "metadata": {},
     "output_type": "execute_result"
    }
   ],
   "source": [
    "df.groupby(\"test preparation course\").agg({'math score':['std','min','max'],'reading score':['std','min','max'],'writing score':['std','min','max']})"
   ]
  },
  {
   "cell_type": "markdown",
   "id": "4aa4e4fa-8afb-4b0d-b795-3199c7fd02b8",
   "metadata": {},
   "source": [
    "Showing the standard deviation, min and max based on test preparation course"
   ]
  },
  {
   "cell_type": "markdown",
   "id": "b671a632-9c0f-40d0-b80d-83a001ef0d34",
   "metadata": {},
   "source": [
    "The management needs your help to give bonus points to the top 25% of students based on their math score, so how will you help the management to achieve this."
   ]
  },
  {
   "cell_type": "code",
   "execution_count": 54,
   "id": "98c422a4-7d14-4575-84aa-cfbe63e1470e",
   "metadata": {},
   "outputs": [
    {
     "data": {
      "text/html": [
       "<div>\n",
       "<style scoped>\n",
       "    .dataframe tbody tr th:only-of-type {\n",
       "        vertical-align: middle;\n",
       "    }\n",
       "\n",
       "    .dataframe tbody tr th {\n",
       "        vertical-align: top;\n",
       "    }\n",
       "\n",
       "    .dataframe thead th {\n",
       "        text-align: right;\n",
       "    }\n",
       "</style>\n",
       "<table border=\"1\" class=\"dataframe\">\n",
       "  <thead>\n",
       "    <tr style=\"text-align: right;\">\n",
       "      <th></th>\n",
       "      <th>gender</th>\n",
       "      <th>race/ethnicity</th>\n",
       "      <th>parental level of education</th>\n",
       "      <th>lunch</th>\n",
       "      <th>test preparation course</th>\n",
       "      <th>math score</th>\n",
       "      <th>reading score</th>\n",
       "      <th>writing score</th>\n",
       "    </tr>\n",
       "  </thead>\n",
       "  <tbody>\n",
       "    <tr>\n",
       "      <th>414</th>\n",
       "      <td>female</td>\n",
       "      <td>group A</td>\n",
       "      <td>high school</td>\n",
       "      <td>free/reduced</td>\n",
       "      <td>completed</td>\n",
       "      <td>77</td>\n",
       "      <td>88</td>\n",
       "      <td>85</td>\n",
       "    </tr>\n",
       "    <tr>\n",
       "      <th>415</th>\n",
       "      <td>female</td>\n",
       "      <td>group B</td>\n",
       "      <td>master's degree</td>\n",
       "      <td>free/reduced</td>\n",
       "      <td>completed</td>\n",
       "      <td>77</td>\n",
       "      <td>97</td>\n",
       "      <td>94</td>\n",
       "    </tr>\n",
       "    <tr>\n",
       "      <th>416</th>\n",
       "      <td>female</td>\n",
       "      <td>group B</td>\n",
       "      <td>bachelor's degree</td>\n",
       "      <td>free/reduced</td>\n",
       "      <td>none</td>\n",
       "      <td>77</td>\n",
       "      <td>85</td>\n",
       "      <td>87</td>\n",
       "    </tr>\n",
       "    <tr>\n",
       "      <th>417</th>\n",
       "      <td>female</td>\n",
       "      <td>group B</td>\n",
       "      <td>master's degree</td>\n",
       "      <td>standard</td>\n",
       "      <td>none</td>\n",
       "      <td>77</td>\n",
       "      <td>90</td>\n",
       "      <td>84</td>\n",
       "    </tr>\n",
       "    <tr>\n",
       "      <th>418</th>\n",
       "      <td>female</td>\n",
       "      <td>group B</td>\n",
       "      <td>high school</td>\n",
       "      <td>standard</td>\n",
       "      <td>completed</td>\n",
       "      <td>77</td>\n",
       "      <td>82</td>\n",
       "      <td>89</td>\n",
       "    </tr>\n",
       "    <tr>\n",
       "      <th>...</th>\n",
       "      <td>...</td>\n",
       "      <td>...</td>\n",
       "      <td>...</td>\n",
       "      <td>...</td>\n",
       "      <td>...</td>\n",
       "      <td>...</td>\n",
       "      <td>...</td>\n",
       "      <td>...</td>\n",
       "    </tr>\n",
       "    <tr>\n",
       "      <th>995</th>\n",
       "      <td>male</td>\n",
       "      <td>group E</td>\n",
       "      <td>some college</td>\n",
       "      <td>standard</td>\n",
       "      <td>completed</td>\n",
       "      <td>99</td>\n",
       "      <td>87</td>\n",
       "      <td>81</td>\n",
       "    </tr>\n",
       "    <tr>\n",
       "      <th>996</th>\n",
       "      <td>male</td>\n",
       "      <td>group A</td>\n",
       "      <td>some college</td>\n",
       "      <td>standard</td>\n",
       "      <td>completed</td>\n",
       "      <td>100</td>\n",
       "      <td>96</td>\n",
       "      <td>86</td>\n",
       "    </tr>\n",
       "    <tr>\n",
       "      <th>997</th>\n",
       "      <td>male</td>\n",
       "      <td>group D</td>\n",
       "      <td>some college</td>\n",
       "      <td>standard</td>\n",
       "      <td>completed</td>\n",
       "      <td>100</td>\n",
       "      <td>97</td>\n",
       "      <td>99</td>\n",
       "    </tr>\n",
       "    <tr>\n",
       "      <th>998</th>\n",
       "      <td>male</td>\n",
       "      <td>group E</td>\n",
       "      <td>associate's degree</td>\n",
       "      <td>free/reduced</td>\n",
       "      <td>completed</td>\n",
       "      <td>100</td>\n",
       "      <td>100</td>\n",
       "      <td>93</td>\n",
       "    </tr>\n",
       "    <tr>\n",
       "      <th>999</th>\n",
       "      <td>male</td>\n",
       "      <td>group E</td>\n",
       "      <td>bachelor's degree</td>\n",
       "      <td>standard</td>\n",
       "      <td>completed</td>\n",
       "      <td>100</td>\n",
       "      <td>100</td>\n",
       "      <td>100</td>\n",
       "    </tr>\n",
       "  </tbody>\n",
       "</table>\n",
       "<p>255 rows × 8 columns</p>\n",
       "</div>"
      ],
      "text/plain": [
       "     gender race/ethnicity parental level of education         lunch  \\\n",
       "414  female        group A                 high school  free/reduced   \n",
       "415  female        group B             master's degree  free/reduced   \n",
       "416  female        group B           bachelor's degree  free/reduced   \n",
       "417  female        group B             master's degree      standard   \n",
       "418  female        group B                 high school      standard   \n",
       "..      ...            ...                         ...           ...   \n",
       "995    male        group E                some college      standard   \n",
       "996    male        group A                some college      standard   \n",
       "997    male        group D                some college      standard   \n",
       "998    male        group E          associate's degree  free/reduced   \n",
       "999    male        group E           bachelor's degree      standard   \n",
       "\n",
       "    test preparation course  math score  reading score  writing score  \n",
       "414               completed          77             88             85  \n",
       "415               completed          77             97             94  \n",
       "416                    none          77             85             87  \n",
       "417                    none          77             90             84  \n",
       "418               completed          77             82             89  \n",
       "..                      ...         ...            ...            ...  \n",
       "995               completed          99             87             81  \n",
       "996               completed         100             96             86  \n",
       "997               completed         100             97             99  \n",
       "998               completed         100            100             93  \n",
       "999               completed         100            100            100  \n",
       "\n",
       "[255 rows x 8 columns]"
      ]
     },
     "execution_count": 54,
     "metadata": {},
     "output_type": "execute_result"
    }
   ],
   "source": [
    "df[df['math score']>=(df['math score'].quantile(q=.75)) ] #Calulating 75% quantile for math score and taking all scores greater than equal to it"
   ]
  },
  {
   "cell_type": "code",
   "execution_count": null,
   "id": "dea98b5a-6f03-493e-b9b7-7e94a6e77161",
   "metadata": {},
   "outputs": [],
   "source": [
    "####Case Study on Testing of Hypothesis"
   ]
  },
  {
   "cell_type": "code",
   "execution_count": 56,
   "id": "20117983-77b3-459e-8623-3459cdc7e57b",
   "metadata": {},
   "outputs": [
    {
     "data": {
      "text/html": [
       "<div>\n",
       "<style scoped>\n",
       "    .dataframe tbody tr th:only-of-type {\n",
       "        vertical-align: middle;\n",
       "    }\n",
       "\n",
       "    .dataframe tbody tr th {\n",
       "        vertical-align: top;\n",
       "    }\n",
       "\n",
       "    .dataframe thead th {\n",
       "        text-align: right;\n",
       "    }\n",
       "</style>\n",
       "<table border=\"1\" class=\"dataframe\">\n",
       "  <thead>\n",
       "    <tr style=\"text-align: right;\">\n",
       "      <th></th>\n",
       "      <th>Month</th>\n",
       "      <th>Region</th>\n",
       "      <th>Manager</th>\n",
       "      <th>Sales_before</th>\n",
       "      <th>Sales_After</th>\n",
       "    </tr>\n",
       "  </thead>\n",
       "  <tbody>\n",
       "    <tr>\n",
       "      <th>0</th>\n",
       "      <td>Month-1</td>\n",
       "      <td>Region - A</td>\n",
       "      <td>Manager - A</td>\n",
       "      <td>132921</td>\n",
       "      <td>270390</td>\n",
       "    </tr>\n",
       "    <tr>\n",
       "      <th>1</th>\n",
       "      <td>Month-2</td>\n",
       "      <td>Region - A</td>\n",
       "      <td>Manager - C</td>\n",
       "      <td>149559</td>\n",
       "      <td>223334</td>\n",
       "    </tr>\n",
       "    <tr>\n",
       "      <th>2</th>\n",
       "      <td>Month-3</td>\n",
       "      <td>Region - B</td>\n",
       "      <td>Manager - A</td>\n",
       "      <td>146278</td>\n",
       "      <td>244243</td>\n",
       "    </tr>\n",
       "    <tr>\n",
       "      <th>3</th>\n",
       "      <td>Month-4</td>\n",
       "      <td>Region - B</td>\n",
       "      <td>Manager - B</td>\n",
       "      <td>152167</td>\n",
       "      <td>231808</td>\n",
       "    </tr>\n",
       "    <tr>\n",
       "      <th>4</th>\n",
       "      <td>Month-5</td>\n",
       "      <td>Region - C</td>\n",
       "      <td>Manager - B</td>\n",
       "      <td>159525</td>\n",
       "      <td>258402</td>\n",
       "    </tr>\n",
       "  </tbody>\n",
       "</table>\n",
       "</div>"
      ],
      "text/plain": [
       "     Month      Region      Manager  Sales_before  Sales_After\n",
       "0  Month-1  Region - A  Manager - A        132921       270390\n",
       "1  Month-2  Region - A  Manager - C        149559       223334\n",
       "2  Month-3  Region - B  Manager - A        146278       244243\n",
       "3  Month-4  Region - B  Manager - B        152167       231808\n",
       "4  Month-5  Region - C  Manager - B        159525       258402"
      ]
     },
     "execution_count": 56,
     "metadata": {},
     "output_type": "execute_result"
    }
   ],
   "source": [
    "import scipy.stats as stats\n",
    "import statistics\n",
    "sa=pd.read_csv('C:/Users/ADMIN/Desktop/DSA/Assesments/Sales_add.csv')\n",
    "sa.rename(columns = {'Sales_before_digital_add(in $)':'Sales_before', 'Sales_After_digital_add(in $)':'Sales_After'\n",
    "                              }, inplace = True)\n",
    "sa.head()"
   ]
  },
  {
   "cell_type": "markdown",
   "id": "1b46c6fe-2cc8-4fb1-ad37-8cb2dc4eaa48",
   "metadata": {},
   "source": [
    "1.####The company wishes to clarify whether there is any  increase in sales after stepping into digital marketing"
   ]
  },
  {
   "cell_type": "code",
   "execution_count": null,
   "id": "a889f018-d38c-49bf-b167-5ffc931f89f7",
   "metadata": {},
   "outputs": [],
   "source": [
    "#H0:There is no increase in sales after digital marketing\n",
    "#Ha;There is an increase in sales after digital marketing"
   ]
  },
  {
   "cell_type": "code",
   "execution_count": null,
   "id": "c7926ac8-dbf7-4e44-806e-b3756086d424",
   "metadata": {},
   "outputs": [],
   "source": [
    "#The sales before digital marketing is taken as population mean and sales afrer taken as sample mean,sample std taken as std afrer digital marketing"
   ]
  },
  {
   "cell_type": "code",
   "execution_count": 57,
   "id": "7cc6f9ad-e6de-43fb-a524-a4b33634f784",
   "metadata": {},
   "outputs": [],
   "source": [
    "pop_mean=sa['Sales_before'].mean()\n",
    "sample_mean=statistics.mean(sa['Sales_After'])\n",
    "sample_std=statistics.stdev(sa['Sales_After'])\n",
    "sample_size=len(sa.index)\n",
    "data=np.array(sa['Sales_After'])\n",
    "#data=np.random.normal(loc=sample_mean,scale=sample_std,size=sample_size) ## not using the same as already sample data is there"
   ]
  },
  {
   "cell_type": "code",
   "execution_count": 58,
   "id": "0383b17a-ae4c-453c-99c0-f7f5c56f30b8",
   "metadata": {},
   "outputs": [
    {
     "name": "stdout",
     "output_type": "stream",
     "text": [
      "15.028066221386988 5.189045779399668e-13\n"
     ]
    }
   ],
   "source": [
    "t_stat,pvalue=stats.ttest_1samp(data,pop_mean,alternative='greater') #sample data is taken as the given data\n",
    "print(t_stat,pvalue)"
   ]
  },
  {
   "cell_type": "code",
   "execution_count": 59,
   "id": "0999ec8d-459c-4bdb-bba3-9a7429aa804d",
   "metadata": {},
   "outputs": [
    {
     "name": "stdout",
     "output_type": "stream",
     "text": [
      "Reject Null Hypothesis:There is an increase in sales after digital marketing\n"
     ]
    }
   ],
   "source": [
    "#Comaprison using t-value\n",
    "#from ct-value table for alpha 0.05 critical value for dof=21 is 1.721\n",
    "critical_value=1.721\n",
    "if t_stat>critical_value:\n",
    "    print(\"Reject Null Hypothesis:There is an increase in sales after digital marketing\")\n",
    "else:\n",
    "    print(\"Accept  Null Hypothesis:There is no increase in sales after digital marketing\")"
   ]
  },
  {
   "cell_type": "code",
   "execution_count": 60,
   "id": "873fcf3b-d1a1-4768-a7a2-b05828170e32",
   "metadata": {},
   "outputs": [
    {
     "name": "stdout",
     "output_type": "stream",
     "text": [
      "Reject Null Hypothesis:There is an increase in sales after digital marketing\n"
     ]
    }
   ],
   "source": [
    "#Comaprison using p-value\n",
    "alpha=.05\n",
    "if pvalue<alpha:\n",
    "    print(\"Reject Null Hypothesis:There is an increase in sales after digital marketing\")\n",
    "else:\n",
    "    print(\"Accept  Null Hypothesis:There is no increase in sales after digital marketing\")"
   ]
  },
  {
   "cell_type": "code",
   "execution_count": null,
   "id": "22984abc-b4c7-4528-982c-490068bbe0e4",
   "metadata": {},
   "outputs": [],
   "source": [
    "2.####The company wishes to check whether there is any dependency between the features “Region” and “Manager”."
   ]
  },
  {
   "cell_type": "code",
   "execution_count": 62,
   "id": "f134f986-c342-4dee-9d9a-6a2d66446cc8",
   "metadata": {},
   "outputs": [
    {
     "name": "stdout",
     "output_type": "stream",
     "text": [
      "3.050566893424036 0.5493991051158094 4 [[4.09090909 3.18181818 2.72727273]\n",
      " [2.86363636 2.22727273 1.90909091]\n",
      " [2.04545455 1.59090909 1.36363636]]\n"
     ]
    }
   ],
   "source": [
    "#H0 There is no dependency between Region and Manager.\n",
    "#Ha There is a dependency between Region and Manager.\n",
    "observed=np.array((sa.groupby([\"Region\",\"Manager\"]).count())['Month']).reshape((3,3))  ##### getting the output og groupby as an array \n",
    "                                                                                       ##### ([[4,3,3],[4,1,2],[1,3,1]]) as contingency table\n",
    "chi2_stat,pvalue,dof,expected=stats.chi2_contingency(observed)\n",
    "print(chi2_stat,pvalue,dof,expected)"
   ]
  },
  {
   "cell_type": "code",
   "execution_count": 63,
   "id": "e15a0903-2d16-4e10-8a9e-e638047ef73b",
   "metadata": {},
   "outputs": [
    {
     "name": "stdout",
     "output_type": "stream",
     "text": [
      "Accept  Null Hypothesis:There is no dependency between Region and Manager\n"
     ]
    }
   ],
   "source": [
    "#Comaprison using chi-square critical value\n",
    "#from chi-squared table for alpha 0.05 critical value for dof=4 is 9.488\n",
    "critical_value=9.488\n",
    "if chi2_stat>critical_value:\n",
    "    print(\"Reject Null Hypothesis:There is a dependency between Region and Manager\")\n",
    "else:\n",
    "    print(\"Accept  Null Hypothesis:There is no dependency between Region and Manager\")"
   ]
  },
  {
   "cell_type": "code",
   "execution_count": 64,
   "id": "2fa19fe0-0bfc-44c6-a1f1-5a768908abd0",
   "metadata": {},
   "outputs": [
    {
     "name": "stdout",
     "output_type": "stream",
     "text": [
      "Accept  Null Hypothesis:There is no dependency between Region and Manager\n"
     ]
    }
   ],
   "source": [
    "#Comaprison using p-value\n",
    "alpha=.05\n",
    "if pvalue<alpha:\n",
    "    print(\"Reject Null Hypothesis:There is a dependency between Region and Manager\")\n",
    "else:\n",
    "    print(\"Accept  Null Hypothesis:There is no dependency between Region and Manager\")"
   ]
  }
 ],
 "metadata": {
  "kernelspec": {
   "display_name": "Python 3 (ipykernel)",
   "language": "python",
   "name": "python3"
  },
  "language_info": {
   "codemirror_mode": {
    "name": "ipython",
    "version": 3
   },
   "file_extension": ".py",
   "mimetype": "text/x-python",
   "name": "python",
   "nbconvert_exporter": "python",
   "pygments_lexer": "ipython3",
   "version": "3.11.7"
  }
 },
 "nbformat": 4,
 "nbformat_minor": 5
}
