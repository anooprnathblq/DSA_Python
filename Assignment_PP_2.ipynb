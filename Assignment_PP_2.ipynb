{
  "nbformat": 4,
  "nbformat_minor": 0,
  "metadata": {
    "colab": {
      "provenance": [],
      "authorship_tag": "ABX9TyOakvosCiuPexoZv4jRWive",
      "include_colab_link": true
    },
    "kernelspec": {
      "name": "python3",
      "display_name": "Python 3"
    },
    "language_info": {
      "name": "python"
    }
  },
  "cells": [
    {
      "cell_type": "markdown",
      "metadata": {
        "id": "view-in-github",
        "colab_type": "text"
      },
      "source": [
        "<a href=\"https://colab.research.google.com/github/anooprnathblq/DSA_Python/blob/main/Assignment_PP_2.ipynb\" target=\"_parent\"><img src=\"https://colab.research.google.com/assets/colab-badge.svg\" alt=\"Open In Colab\"/></a>"
      ]
    },
    {
      "cell_type": "code",
      "source": [
        "#1.Program to find the count of alphabets in a string\n",
        "str1=input(\"Enter the string   :\")\n",
        "no_dup=[]\n",
        "for x in str1: #getting unique values to a new list\n",
        "  if x not in no_dup:\n",
        "    no_dup.append(x)\n",
        "for y in no_dup:#count of unique values in original list\n",
        "  count_alpha=str1.count(y)\n",
        "  print(y,\"=\",count_alpha,end=\"  \")"
      ],
      "metadata": {
        "colab": {
          "base_uri": "https://localhost:8080/"
        },
        "id": "LQacmtqKxiGs",
        "outputId": "c38299bf-2703-40fb-e7c4-21526e484cc3"
      },
      "execution_count": 3,
      "outputs": [
        {
          "output_type": "stream",
          "name": "stdout",
          "text": [
            "Enter the string   :assembly\n",
            "a = 1  s = 2  e = 1  m = 1  b = 1  l = 1  y = 1  "
          ]
        }
      ]
    },
    {
      "cell_type": "code",
      "source": [
        "#2 Program to find max of three numbers using function\n",
        "def max_three(x,y,z):\n",
        "  if x>y and x>z:\n",
        "    return(x)\n",
        "  elif y>x and y>z:\n",
        "    return(y)\n",
        "  else:\n",
        "    return(z)\n",
        "\n",
        "num1=int(input(\"Enter the first number :\"))\n",
        "num2=int(input(\"Enter the second number :\"))\n",
        "num3=int(input(\"Enter the third number :\"))\n",
        "print(max_three(num1,num2,num3),'is the maximum of given three numbers')\n",
        "\n"
      ],
      "metadata": {
        "colab": {
          "base_uri": "https://localhost:8080/"
        },
        "id": "NYIIGm50nY1X",
        "outputId": "e88914d2-105a-46bc-8ddb-711c04536a3c"
      },
      "execution_count": 5,
      "outputs": [
        {
          "output_type": "stream",
          "name": "stdout",
          "text": [
            "Enter the first number :34\n",
            "Enter the second number :12\n",
            "Enter the third number :7\n",
            "34 is the maximum of given three numbers\n"
          ]
        }
      ]
    },
    {
      "cell_type": "code",
      "source": [
        "#3 Program using function for base^exponent"
      ],
      "metadata": {
        "id": "2kdsRLmV_24W"
      },
      "execution_count": null,
      "outputs": []
    },
    {
      "cell_type": "code",
      "source": [
        "def exponent(base,exp):\n",
        "  return(base**exp)\n",
        "\n",
        "\n",
        "base_in=int(input(\"Enter the base   :\"))\n",
        "exp_in=int(input(\"Enter the exp   :\"))\n",
        "result=exponent(base_in,exp_in)\n",
        "print(f\"{base_in} ^ {exp_in} is {result}\")\n"
      ],
      "metadata": {
        "id": "lj7DQz4s7YH6",
        "colab": {
          "base_uri": "https://localhost:8080/"
        },
        "outputId": "158d337c-f6e2-49e1-da6d-bb466dbedc90"
      },
      "execution_count": 9,
      "outputs": [
        {
          "output_type": "stream",
          "name": "stdout",
          "text": [
            "Enter the base   :2\n",
            "Enter the exp   :3\n",
            "2 ^ 3 is 8\n"
          ]
        }
      ]
    },
    {
      "cell_type": "code",
      "source": [
        "#4 Program for findind sum of cubes<given number using function"
      ],
      "metadata": {
        "id": "SNX7q8rR_1y1"
      },
      "execution_count": null,
      "outputs": []
    },
    {
      "cell_type": "code",
      "source": [
        "def cube(x):\n",
        "  sum=0\n",
        "  for i in range(1,x):\n",
        "    sum=sum+(i**3)\n",
        "  return(sum)\n",
        "\n",
        "num_4=int(input(\"Enter a positive integer  :\"))\n",
        "sum_cube=cube(num_4)\n",
        "print(sum_cube)\n"
      ],
      "metadata": {
        "colab": {
          "base_uri": "https://localhost:8080/"
        },
        "id": "e6ELLap1_R_8",
        "outputId": "f6fbf1e7-ae1f-4c27-ec8d-27b4600ccc93"
      },
      "execution_count": 13,
      "outputs": [
        {
          "output_type": "stream",
          "name": "stdout",
          "text": [
            "Enter a positive integer  :4\n",
            "36\n"
          ]
        }
      ]
    },
    {
      "cell_type": "code",
      "source": [
        "#5 Program to print fizz,buzz,fizzbuzz,numbers\n",
        "for i in range(1,11):\n",
        "  if i%5==0 and i%2==0:\n",
        "    print(\"FizzBuzz\",end=\" \")\n",
        "  elif i%2==0:\n",
        "    print(\"Fizz\",end=\" \")\n",
        "  elif i%5==0:\n",
        "    print(\"Buzz\",end=\" \")\n",
        "  else:\n",
        "    print(i,end=\" \")\n",
        "\n"
      ],
      "metadata": {
        "colab": {
          "base_uri": "https://localhost:8080/"
        },
        "id": "FSb307eIAIpj",
        "outputId": "a464dacf-008d-4d30-bbb5-886650f4a483"
      },
      "execution_count": 15,
      "outputs": [
        {
          "output_type": "stream",
          "name": "stdout",
          "text": [
            "1 Fizz 3 Fizz Buzz Fizz 7 Fizz 9 FizzBuzz "
          ]
        }
      ]
    },
    {
      "cell_type": "code",
      "source": [
        "#6 Program to print the most frequent number in a list\n",
        "list6=[2,3,4,2,5,2]\n",
        "no_dup=[]\n",
        "list_count=[]\n",
        "for x in list6:                             ## for getting unique values\n",
        "  if x not in no_dup:\n",
        "    no_dup.append(x)\n",
        "\n",
        "for i in range(0,len(no_dup)):              ## for counting the unique values in original list and appending it to a new list in same order\n",
        "  list_count.append(list6.count(no_dup[i]))\n",
        "\n",
        "index_max=list_count.index(max(list_count))  # getting the index of the maximum count value\n",
        "#print(index_max)\n",
        "print(no_dup[index_max],'is the most frequent number')   #printing the concerned value from unique list  using the index\n",
        "\n"
      ],
      "metadata": {
        "colab": {
          "base_uri": "https://localhost:8080/"
        },
        "id": "NrtMa3zPt1Mt",
        "outputId": "2f0a584c-976e-43a7-92d3-e1a3bed8b814"
      },
      "execution_count": 17,
      "outputs": [
        {
          "output_type": "stream",
          "name": "stdout",
          "text": [
            "2 is the most frequent number\n"
          ]
        }
      ]
    },
    {
      "cell_type": "code",
      "source": [
        "#7 Program to find the sum of squares of numbers in alist\n",
        "list7=[2,1,3,1]\n",
        "sum=0\n",
        "for i in list7:\n",
        "  sum=sum+i*i\n",
        "print(sum)\n"
      ],
      "metadata": {
        "colab": {
          "base_uri": "https://localhost:8080/"
        },
        "id": "QXGzu5DCDvL6",
        "outputId": "4361ac1a-35a3-4713-cd24-aa560f348339"
      },
      "execution_count": 20,
      "outputs": [
        {
          "output_type": "stream",
          "name": "stdout",
          "text": [
            "15\n"
          ]
        }
      ]
    },
    {
      "cell_type": "code",
      "source": [
        "#8 Program to find and print odd or even\n",
        "for i in range(1,16):\n",
        "  if i%2==0:\n",
        "    print(i,\"even\",sep='-',end=\" \")\n",
        "  else:\n",
        "    print(i,\"odd\",sep='-',end=\" \")"
      ],
      "metadata": {
        "colab": {
          "base_uri": "https://localhost:8080/"
        },
        "id": "2MvlbwsVEF_L",
        "outputId": "c8116464-1e1f-4c21-8caf-2dfa3a97ef1b"
      },
      "execution_count": null,
      "outputs": [
        {
          "output_type": "stream",
          "name": "stdout",
          "text": [
            "1-odd 2-even 3-odd 4-even 5-odd 6-even 7-odd 8-even 9-odd 10-even 11-odd 12-even 13-odd 14-even 15-odd "
          ]
        }
      ]
    },
    {
      "cell_type": "code",
      "source": [
        "#9 Program to convert between Celsisus and farenheit\n",
        "y=int(input('Enter the conversion required:1  Farenheit to Celsius,2 Celsisus to Farenheit  :'))\n",
        "if (y==1):\n",
        "  tempf=int(input('Enter the temp in Farenheit  :'))\n",
        "  tempc=(tempf-32)*5/9\n",
        "  print('Temperature in Celsius  :',tempc)\n",
        "elif (y==2):\n",
        "  tempc=int(input('Enter the temp in Celsisu  :'))\n",
        "  tempf=(tempc*9/5)+32\n",
        "  print('Temperature in Farenheit  :',tempf)\n",
        "else:\n",
        "  print(\"Wrong choice\")"
      ],
      "metadata": {
        "colab": {
          "base_uri": "https://localhost:8080/"
        },
        "id": "yNR1Os_PErVW",
        "outputId": "0ffb41af-9829-4758-9053-ac2bd8cbe811"
      },
      "execution_count": 27,
      "outputs": [
        {
          "output_type": "stream",
          "name": "stdout",
          "text": [
            "Enter the conversion required:1  Farenheit to Celsius,2 Celsisus to Farenheit  :1\n",
            "Enter the temp in Farenheit  :41\n",
            "Temperature in Celsius  : 5.0\n"
          ]
        }
      ]
    },
    {
      "cell_type": "code",
      "source": [
        "#10 Program for factorial using function\n",
        "def fact(x):\n",
        "  fact=1\n",
        "  for i in range(1,num+1):\n",
        "    fact=fact*i\n",
        "  return(fact)\n",
        "\n",
        "num=int(input('Enter the num  : '))\n",
        "num_fact=fact(num)\n",
        "print(f\"Factorial of {num} is {num_fact}\")\n",
        "\n",
        "\n"
      ],
      "metadata": {
        "colab": {
          "base_uri": "https://localhost:8080/"
        },
        "id": "4UIjJ3BUHOvv",
        "outputId": "68c34b78-7d1a-4219-e763-373e29938a5e"
      },
      "execution_count": 26,
      "outputs": [
        {
          "output_type": "stream",
          "name": "stdout",
          "text": [
            "Enter the num  : 3\n",
            "Factorial of 3 is 6\n"
          ]
        }
      ]
    }
  ]
}